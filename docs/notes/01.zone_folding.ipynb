{
 "cells": [
  {
   "cell_type": "markdown",
   "id": "47f736cb",
   "metadata": {},
   "source": [
    "# Carbon Nanotubes\n",
    "\n",
    "Pollo\n",
    "\n",
    "\\begin{equation}\n",
    "pollo = 3\n",
    "\\end{equation}\n",
    "\n",
    "$pollo = 5$\n",
    "\n",
    "Ciao dal pollo!"
   ]
  }
 ],
 "metadata": {
  "kernelspec": {
   "display_name": "Python 3 (ipykernel)",
   "language": "python",
   "name": "python3"
  },
  "language_info": {
   "codemirror_mode": {
    "name": "ipython",
    "version": 3
   },
   "file_extension": ".py",
   "mimetype": "text/x-python",
   "name": "python",
   "nbconvert_exporter": "python",
   "pygments_lexer": "ipython3",
   "version": "3.8.16"
  }
 },
 "nbformat": 4,
 "nbformat_minor": 5
}
