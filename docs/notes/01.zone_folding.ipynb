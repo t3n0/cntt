{
 "cells": [
  {
   "cell_type": "markdown",
   "id": "47f736cb",
   "metadata": {},
   "source": [
    "# Carbon Nanotubes\n",
    "\n",
    "Carbon nanotubes (CNTs) are structures consisting of a graphene sheet rolled up into a cylinder.\n",
    "Generally, due to their small diameter compared to their length, CNTs are considered (quasi) one dimensional materials. Most of their properties are a consequence of the way the graphene sheet is rolled. We can have two types of CNTs (see Fig. 1):\n",
    " - **chiral** CNTs (further subdivided in armchair or zigzag CNTs),\n",
    " - and **achiral** CNTs.\n",
    " \n",
    "<img src=\"../images/chiral.png\" alt=\"Chiral/Achiral CNTs\"/>\n",
    "<center>Fig. 1: Three examples of the graphene sheets that generate chiral and achiral CNTs.</center>\n",
    "<br\\><br\\>\n",
    "\n",
    "Every nanotube is uniquely defined by a pair of integer numbers $(n,m)$, $n \\ge m$. These are the coefficients of the so-called *chiral* vector $ \\mathbf{C} = n \\mathbf{a}_1 + m \\mathbf{a}_2$, where $\\mathbf{a}_1$, $\\mathbf{a}_2$ are the basis lattice vectors of the underlying grpahene sheet.\n",
    "\n"
   ]
  },
  {
   "cell_type": "code",
   "execution_count": null,
   "id": "b78ef823",
   "metadata": {},
   "outputs": [],
   "source": []
  }
 ],
 "metadata": {
  "kernelspec": {
   "display_name": "Python 3 (ipykernel)",
   "language": "python",
   "name": "python3"
  },
  "language_info": {
   "codemirror_mode": {
    "name": "ipython",
    "version": 3
   },
   "file_extension": ".py",
   "mimetype": "text/x-python",
   "name": "python",
   "nbconvert_exporter": "python",
   "pygments_lexer": "ipython3",
   "version": "3.8.16"
  }
 },
 "nbformat": 4,
 "nbformat_minor": 5
}
