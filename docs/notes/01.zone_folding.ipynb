{
 "cells": [
  {
   "cell_type": "markdown",
   "id": "47f736cb",
   "metadata": {},
   "source": [
    "# Carbon Nanotubes\n",
    "\n",
    "***\n",
    "\n",
    "Carbon nanotubes (CNTs) are structures consisting of a graphene sheet rolled up into a cylinder.\n",
    "Generally, due to their small diameter compared to their length, CNTs are considered (quasi) one dimensional materials. Most of their properties are a consequence of the way the graphene sheet is rolled. We can have two types of CNTs (see Fig. 1):\n",
    " - **achiral** CNTs (further subdivided in armchair or zigzag CNTs),\n",
    " - and **chiral** CNTs.\n",
    "\n",
    "<img src=\"../images/chiral.png\" alt=\"Chiral/Achiral CNTs\"/>\n",
    "<center>Fig. 1: Three examples of the graphene sheets that generate chiral and achiral CNTs.</center>\n",
    "<br\\><br\\>\n",
    "\n",
    "Every nanotube is uniquely defined by a pair of integer numbers $(n,m)$, $n \\ge m$. These are the coefficients of the so-called *chiral* vector $ \\mathbf{C} = n \\mathbf{a}_1 + m \\mathbf{a}_2$, where $\\mathbf{a}_1$, $\\mathbf{a}_2$ are the basis lattice vectors of the underlying grpahene sheet.\n",
    "The $\\mathbf{C}$ vector runs over the circumference of the tube.\n",
    "The chirality of CNTs is:\n",
    " \n",
    " - $(n,n)$ armchair,\n",
    " - $(n,0)$ zigzag,\n",
    " - $(n,m)$ achiral.\n",
    "\n",
    "## Basic geometrical properties of CNTs\n",
    "\n",
    "For any given $(n,m)$ pair we define the following important quantities:\n",
    "\n",
    "\\begin{equation}\n",
    "\\begin{split}\n",
    "D &= \\text{gcd}(n,m) \\\\\n",
    "M &= (n - m) \\, \\text{mod} \\, (3 D) \\\\\n",
    "S &= (n - m) \\, \\text{mod} \\, 3 \\\\\n",
    "R &= \\text{gcd}(2n+m, 2m+n) \\\\\n",
    "N &= \\frac{2 (n^2 + nm + m^2)}{R}\n",
    "\\end{split}\n",
    "\\end{equation}\n",
    "\n",
    "where the function $\\text{gcd}(x,y)$ returns the greatest common divisor between $x$ and $y$. The above quantities are:\n",
    "\n",
    " - $D$ counts the number of **unique rotations** (along the main axis) that leave the CNT the same. For example, the $(4,2)$ CNT in Fig. 1 has $D = 2$, which means that the CNT is not affected by rotations of 180 degrees.\n",
    " \n",
    " - $M$ can be any value in the range $\\{0, ..., 3D-1\\}$. When $M=0$ the nanotube is **metallic type 2**, M2. This corresponds to a band structure where a single helical subband crosses both Dirac points.\n",
    " - $S$ can be either 0, 1 or 2. If $M\\ne0$, CNTs with $S=0$ are **metallic type 1**, M1. Otherwise, when $S = 1$ or $S = 2$ the CNT is **semiconducting type 1**, S1, or **semiconducting type 2**, S2, respectively.\n",
    "\n",
    " - **Armchair** CNTs are always M2. **Zigzag** CNTs can be M1, S1 or S2. **Chiral** CNTs can be any type.\n",
    "\n",
    " - $R$ is closely related to $D$, $M$ and $S$: if $M=0$ then $R = 3D$, otherwise $R=D$.\n",
    " \n",
    " - finally, $N$ is the **number of hexagons** in the CNT unitcell."
   ]
  },
  {
   "cell_type": "code",
   "execution_count": null,
   "id": "6c9de2ea",
   "metadata": {},
   "outputs": [],
   "source": []
  }
 ],
 "metadata": {
  "kernelspec": {
   "display_name": "Python 3 (ipykernel)",
   "language": "python",
   "name": "python3"
  },
  "language_info": {
   "codemirror_mode": {
    "name": "ipython",
    "version": 3
   },
   "file_extension": ".py",
   "mimetype": "text/x-python",
   "name": "python",
   "nbconvert_exporter": "python",
   "pygments_lexer": "ipython3",
   "version": "3.8.16"
  }
 },
 "nbformat": 4,
 "nbformat_minor": 5
}
