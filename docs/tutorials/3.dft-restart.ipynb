{
 "cells": [
  {
   "cell_type": "code",
   "execution_count": null,
   "metadata": {},
   "outputs": [],
   "source": [
    "# We first perform a coarse dft calculation\n",
    "# Then we increase the k-grid sampling and interpolate\n",
    "\n",
    "import matplotlib.pyplot as plt\n",
    "from cntt.plotting import electronBands\n",
    "from cntt.swcnt import Swcnt\n",
    "\n",
    "fig, ax = plt.subplots()\n",
    "\n",
    "mycnt = Swcnt(4,2)\n",
    "\n",
    "# define a coarse k-grid and launch the dft calculation\n",
    "mycnt.calculateCuttingLines(3)\n",
    "pseudo_dir = 'path/to/your/pseudo_dir' # <-- change this to your own path!\n",
    "mycnt.calculateElectronBands('DFT', 'myDFT', nprocs = 4, pseudo_dir=pseudo_dir)\n",
    "\n",
    "# plot the coarse bands\n",
    "electronBands(mycnt, ax)\n",
    "\n",
    "# define the finer k-grid, read dft data from file and interpolate\n",
    "mycnt.calculateCuttingLines(11)\n",
    "mycnt.calculateElectronBands('DFT', 'myDFT', from_file = True, fourier_interp = True)\n",
    "\n",
    "# plot the finer bands\n",
    "electronBands(mycnt, ax)\n",
    "\n",
    "plt.show()"
   ]
  },
  {
   "cell_type": "code",
   "execution_count": null,
   "metadata": {},
   "outputs": [],
   "source": []
  }
 ],
 "metadata": {
  "kernelspec": {
   "display_name": "Python 3",
   "language": "python",
   "name": "python3"
  },
  "language_info": {
   "codemirror_mode": {
    "name": "ipython",
    "version": 3
   },
   "file_extension": ".py",
   "mimetype": "text/x-python",
   "name": "python",
   "nbconvert_exporter": "python",
   "pygments_lexer": "ipython3",
   "version": "3.8.3"
  }
 },
 "nbformat": 4,
 "nbformat_minor": 4
}
